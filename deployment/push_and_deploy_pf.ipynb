{
 "cells": [
  {
   "cell_type": "markdown",
   "metadata": {},
   "source": [
    "# 1. Push the prompt flow to AI Studio"
   ]
  },
  {
   "cell_type": "code",
   "execution_count": 1,
   "metadata": {},
   "outputs": [],
   "source": [
    "# import required libraries\n",
    "import os\n",
    "from azure.ai.ml import MLClient\n",
    "from azure.ai.ml.entities import WorkspaceConnection\n",
    "# Import required libraries\n",
    "from azure.identity import DefaultAzureCredential, InteractiveBrowserCredential\n",
    "\n",
    "# Import required libraries\n",
    "from azure.identity import DefaultAzureCredential, InteractiveBrowserCredential\n",
    "\n",
    "try:\n",
    "    credential = DefaultAzureCredential()\n",
    "    # Check if given credential can get token successfully.\n",
    "    credential.get_token(\"https://management.azure.com/.default\")\n",
    "except Exception as ex:\n",
    "    # Fall back to InteractiveBrowserCredential in case DefaultAzureCredential not work\n",
    "    credential = InteractiveBrowserCredential()"
   ]
  },
  {
   "cell_type": "code",
   "execution_count": 2,
   "metadata": {},
   "outputs": [
    {
     "name": "stderr",
     "output_type": "stream",
     "text": [
      "Found the config file in: ../config.json\n"
     ]
    }
   ],
   "source": [
    "config_path = \"../config.json\"\n",
    "from promptflow.azure import PFClient\n",
    "pf_azure_client = PFClient.from_config(credential=credential, path=config_path)"
   ]
  },
  {
   "cell_type": "code",
   "execution_count": 3,
   "metadata": {},
   "outputs": [],
   "source": [
    "# Create unique name for pf name with date time\n",
    "import datetime\n",
    "now = datetime.datetime.now()\n",
    "pf_name = \"contoso-chat-{}\".format(now.strftime(\"%Y-%m-%d-%H-%M-%S\"))\n"
   ]
  },
  {
   "cell_type": "code",
   "execution_count": 4,
   "metadata": {},
   "outputs": [],
   "source": [
    "# Runtime no longer needed (not in flow schema)\n",
    "# load flow\n",
    "flow = \"../contoso-chat/\""
   ]
  },
  {
   "cell_type": "code",
   "execution_count": 5,
   "metadata": {},
   "outputs": [
    {
     "name": "stdout",
     "output_type": "stream",
     "text": [
      "Flow created successfully:\n",
      "{\n",
      "    \"name\": \"cc5f1f60-dc66-4aa1-b724-cdf216a2ad86\",\n",
      "    \"type\": \"chat\",\n",
      "    \"path\": \"Users/User1-38773906/promptflow/contoso-chat-03-13-2024-15-47-11/flow.dag.yaml\",\n",
      "    \"code\": \"azureml://locations/swedencentral/workspaces/b39f4177-4e81-48c8-9890-ea5ca51948dd/flows/cc5f1f60-dc66-4aa1-b724-cdf216a2ad86\",\n",
      "    \"display_name\": \"contoso-chat-2024-03-13-15-47-10\",\n",
      "    \"owner\": {\n",
      "        \"user_object_id\": \"fb4053b4-80b4-40b1-894b-72b997bfdbae\",\n",
      "        \"user_tenant_id\": \"d2f64b03-2cce-4f20-900e-b81248ebc1a8\",\n",
      "        \"user_name\": \"User1-38773906\"\n",
      "    },\n",
      "    \"is_archived\": false,\n",
      "    \"created_date\": \"2024-03-13 15:47:33.002689+00:00\",\n",
      "    \"flow_portal_url\": \"https://ai.azure.com/projectflows/cc5f1f60-dc66-4aa1-b724-cdf216a2ad86/b39f4177-4e81-48c8-9890-ea5ca51948dd/details/Flow?wsid=/subscriptions/86c9684f-e9d5-409d-bd4b-e07a9a42bdd6/resourcegroups/contoso-chat-rg/providers/Microsoft.MachineLearningServices/workspaces/contoso-chat-sf-aiproj\"\n",
      "}\n",
      "Creating prompt flow <promptflow.azure._entities._flow.Flow object at 0x7f30cfb7aa10>\n"
     ]
    }
   ],
   "source": [
    "contoso_chat_flow = pf_azure_client.flows.create_or_update(\n",
    "    flow=flow,\n",
    "    display_name=pf_name,\n",
    "    type=\"chat\")\n",
    "print(\"Creating prompt flow\", contoso_chat_flow)"
   ]
  },
  {
   "cell_type": "markdown",
   "metadata": {},
   "source": [
    "# 2. Navigate to AI Studio to test and deploy the prompt flow"
   ]
  }
 ],
 "metadata": {
  "kernelspec": {
   "display_name": "Python 3",
   "language": "python",
   "name": "python3"
  },
  "language_info": {
   "codemirror_mode": {
    "name": "ipython",
    "version": 3
   },
   "file_extension": ".py",
   "mimetype": "text/x-python",
   "name": "python",
   "nbconvert_exporter": "python",
   "pygments_lexer": "ipython3",
   "version": "3.11.8"
  }
 },
 "nbformat": 4,
 "nbformat_minor": 2
}
